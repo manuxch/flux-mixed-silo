{
 "cells": [
  {
   "cell_type": "code",
   "execution_count": 1,
   "id": "d4055e36-b0ac-47bf-a06c-156a8037c7db",
   "metadata": {
    "tags": []
   },
   "outputs": [],
   "source": [
    "import numpy as np"
   ]
  },
  {
   "cell_type": "code",
   "execution_count": 17,
   "id": "eba13910-e6a9-4e5b-8c83-0f54513fd07c",
   "metadata": {
    "tags": []
   },
   "outputs": [
    {
     "data": {
      "text/plain": [
       "1.2732395447351628"
      ]
     },
     "execution_count": 17,
     "metadata": {},
     "output_type": "execute_result"
    }
   ],
   "source": [
    "M = 10000\n",
    "N = 10000\n",
    "dens = 4 / np.pi\n",
    "dens"
   ]
  },
  {
   "cell_type": "code",
   "execution_count": 8,
   "id": "31fabafb-2da0-4c51-8c00-ea3fd41c8ed4",
   "metadata": {
    "tags": []
   },
   "outputs": [
    {
     "data": {
      "text/plain": [
       "array([1.        , 1.02631579, 1.05263158, 1.07894737, 1.10526316,\n",
       "       1.13157895, 1.15789474, 1.18421053, 1.21052632, 1.23684211,\n",
       "       1.26315789, 1.28947368, 1.31578947, 1.34210526, 1.36842105,\n",
       "       1.39473684, 1.42105263, 1.44736842, 1.47368421, 1.5       ])"
      ]
     },
     "execution_count": 8,
     "metadata": {},
     "output_type": "execute_result"
    }
   ],
   "source": [
    "masas_l = np.linspace(1, 1.5, 20)\n",
    "masas_l"
   ]
  },
  {
   "cell_type": "code",
   "execution_count": 9,
   "id": "cde70f7d-ed0b-4fec-b24b-f2bc59277f72",
   "metadata": {
    "tags": []
   },
   "outputs": [
    {
     "data": {
      "text/plain": [
       "array([0.5       , 0.50653623, 0.51298918, 0.51936196, 0.52565748,\n",
       "       0.5318785 , 0.53802759, 0.54410719, 0.5501196 , 0.55606702,\n",
       "       0.56195149, 0.56777497, 0.57353933, 0.57924633, 0.58489765,\n",
       "       0.59049489, 0.59603956, 0.60153313, 0.60697698, 0.61237244])"
      ]
     },
     "execution_count": 9,
     "metadata": {},
     "output_type": "execute_result"
    }
   ],
   "source": [
    "radios_l = np.sqrt(masas_l / 4)\n",
    "radios_l"
   ]
  },
  {
   "cell_type": "code",
   "execution_count": 10,
   "id": "36b3986e-42b1-4202-a32c-5582ae1deec7",
   "metadata": {
    "tags": []
   },
   "outputs": [
    {
     "data": {
      "text/plain": [
       "array([1.        , 0.97368421, 0.94736842, 0.92105263, 0.89473684,\n",
       "       0.86842105, 0.84210526, 0.81578947, 0.78947368, 0.76315789,\n",
       "       0.73684211, 0.71052632, 0.68421053, 0.65789474, 0.63157895,\n",
       "       0.60526316, 0.57894737, 0.55263158, 0.52631579, 0.5       ])"
      ]
     },
     "execution_count": 10,
     "metadata": {},
     "output_type": "execute_result"
    }
   ],
   "source": [
    "masas_s = np.linspace(1, 0.5, 20)\n",
    "masas_s"
   ]
  },
  {
   "cell_type": "code",
   "execution_count": 11,
   "id": "baf44932-f6e8-4f18-8f36-4b08fa06e68d",
   "metadata": {
    "tags": []
   },
   "outputs": [
    {
     "data": {
      "text/plain": [
       "array([0.5       , 0.49337719, 0.48666426, 0.47985743, 0.47295265,\n",
       "       0.46594556, 0.45883147, 0.45160532, 0.44426166, 0.43679454,\n",
       "       0.42919754, 0.42146362, 0.4135851 , 0.40555355, 0.39735971,\n",
       "       0.3889933 , 0.38044296, 0.37169597, 0.36273813, 0.35355339])"
      ]
     },
     "execution_count": 11,
     "metadata": {},
     "output_type": "execute_result"
    }
   ],
   "source": [
    "radios_s = np.sqrt(masas_s / 4)\n",
    "radios_s"
   ]
  },
  {
   "cell_type": "code",
   "execution_count": 16,
   "id": "6e152048-5d07-43ed-a02f-1890925c386f",
   "metadata": {
    "tags": []
   },
   "outputs": [
    {
     "data": {
      "text/plain": [
       "array([5000, 4871, 4750, 4634, 4523, 4418, 4318, 4222, 4130, 4042, 3958,\n",
       "       3877, 3800, 3725, 3653, 3584, 3518, 3454, 3392, 3333])"
      ]
     },
     "execution_count": 16,
     "metadata": {},
     "output_type": "execute_result"
    }
   ],
   "source": [
    "n_l = (M / (8 * radios_l**2)).astype(int)\n",
    "n_l"
   ]
  },
  {
   "cell_type": "code",
   "execution_count": 18,
   "id": "3233589e-18e0-4b9a-af78-276a871cd385",
   "metadata": {
    "tags": []
   },
   "outputs": [
    {
     "data": {
      "text/plain": [
       "array([5000, 5129, 5250, 5366, 5477, 5582, 5682, 5778, 5870, 5958, 6042,\n",
       "       6123, 6200, 6275, 6347, 6416, 6482, 6546, 6608, 6667])"
      ]
     },
     "execution_count": 18,
     "metadata": {},
     "output_type": "execute_result"
    }
   ],
   "source": [
    "n_s = N - n_l\n",
    "n_s"
   ]
  },
  {
   "cell_type": "code",
   "execution_count": 20,
   "id": "b6db1c51-486f-4aae-be1f-3567079dc931",
   "metadata": {
    "tags": []
   },
   "outputs": [
    {
     "data": {
      "text/plain": [
       "array([10000.        ,  9993.21052632,  9973.68421053,  9942.21052632,\n",
       "        9899.57894737,  9846.84210526,  9784.63157895,  9713.36842105,\n",
       "        9633.68421053,  9546.21052632,  9451.57894737,  9349.84210526,\n",
       "        9242.10526316,  9127.63157895,  9007.47368421,  8882.10526316,\n",
       "        8752.        ,  8616.73684211,  8476.63157895,  8333.        ])"
      ]
     },
     "execution_count": 20,
     "metadata": {},
     "output_type": "execute_result"
    }
   ],
   "source": [
    "masas_totales = n_l * radios_l**2 * 4 + n_s * radios_s**2 * 4\n",
    "masas_totales"
   ]
  },
  {
   "cell_type": "code",
   "execution_count": null,
   "id": "fda13790-d0ed-421f-8fbb-6c6a58590fee",
   "metadata": {},
   "outputs": [],
   "source": []
  }
 ],
 "metadata": {
  "kernelspec": {
   "display_name": "Python 3 (ipykernel)",
   "language": "python",
   "name": "python3"
  },
  "language_info": {
   "codemirror_mode": {
    "name": "ipython",
    "version": 3
   },
   "file_extension": ".py",
   "mimetype": "text/x-python",
   "name": "python",
   "nbconvert_exporter": "python",
   "pygments_lexer": "ipython3",
   "version": "3.8.16"
  }
 },
 "nbformat": 4,
 "nbformat_minor": 5
}
